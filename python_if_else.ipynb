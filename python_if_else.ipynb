{
  "nbformat": 4,
  "nbformat_minor": 0,
  "metadata": {
    "colab": {
      "provenance": [],
      "authorship_tag": "ABX9TyOFpAFT/8toeLmN6dt+WFW7",
      "include_colab_link": true
    },
    "kernelspec": {
      "name": "python3",
      "display_name": "Python 3"
    },
    "language_info": {
      "name": "python"
    }
  },
  "cells": [
    {
      "cell_type": "markdown",
      "metadata": {
        "id": "view-in-github",
        "colab_type": "text"
      },
      "source": [
        "<a href=\"https://colab.research.google.com/github/ayeshaagarwal21/GENai/blob/main/python_if_else.ipynb\" target=\"_parent\"><img src=\"https://colab.research.google.com/assets/colab-badge.svg\" alt=\"Open In Colab\"/></a>"
      ]
    },
    {
      "cell_type": "code",
      "execution_count": null,
      "metadata": {
        "colab": {
          "base_uri": "https://localhost:8080/"
        },
        "id": "_vfMztXo9PS-",
        "outputId": "f36ffd24-88a2-4680-a4c8-2ed9033d361a"
      },
      "outputs": [
        {
          "output_type": "stream",
          "name": "stdout",
          "text": [
            "enter your number:6\n",
            "even number\n"
          ]
        }
      ],
      "source": [
        "#Q1 Write a program that takes an integer input from the user and checks whether the number is odd or even.\n",
        "num=int(input(\"enter your number:\"))\n",
        "if(num%2==0):\n",
        "  print(\"even number\")\n",
        "else:\n",
        "  print(\"odd number\")\n"
      ]
    },
    {
      "cell_type": "code",
      "source": [
        "#Q2 Write a program that takes three numbers as input and prints the largest of the three.\n",
        "a=int(input(\"enter 1st choice:\"))\n",
        "b=int(input(\"enter 2nd choice:\"))\n",
        "c=int(input(\"enter 3rd choice:\"))\n",
        "if(a>b and b>c):\n",
        "  print(a,\"is largest\")\n",
        "elif(b>a and b>c):\n",
        "  print(b,\"is largest\")\n",
        "else:\n",
        "  print(c,\"is largest\")"
      ],
      "metadata": {
        "colab": {
          "base_uri": "https://localhost:8080/"
        },
        "id": "SHHAoGSG_LlZ",
        "outputId": "4d725855-dfce-499e-859c-0de1cfe3173d"
      },
      "execution_count": null,
      "outputs": [
        {
          "output_type": "stream",
          "name": "stdout",
          "text": [
            "enter 1st choice:5\n",
            "enter 2nd choice:6\n",
            "enter 3rd choice:7\n",
            "7 is largest\n"
          ]
        }
      ]
    },
    {
      "cell_type": "code",
      "source": [
        "#Q3 Write a program to check if a given year is a leap year. A leap year is divisible by 4 but not by 100 unless it is also divisible by 400.\n",
        "year=int(input(\"enter the year:\"))\n",
        "if(year%4==0 and year%100!=0) or (year%400==0):\n",
        "      print(year,\"is a leap year\")\n",
        "else:\n",
        "  print(year,\"is not a leap year\")\n",
        "\n"
      ],
      "metadata": {
        "colab": {
          "base_uri": "https://localhost:8080/"
        },
        "id": "jp494IOZBFUL",
        "outputId": "025c251e-5e18-48c7-bc14-df462b89a537"
      },
      "execution_count": null,
      "outputs": [
        {
          "output_type": "stream",
          "name": "stdout",
          "text": [
            "enter the year:2024\n",
            "2024 is a leap year\n"
          ]
        }
      ]
    },
    {
      "cell_type": "code",
      "source": [
        "#Q4 Write a program that takes a percentage (integer) as input and prints the corresponding grade based on the following criteria:\n",
        "#>= 90: Grade A\n",
        "#>= 80: Grade B\n",
        "#>= 70: Grade C\n",
        "#>= 60: Grade D\n",
        "#< 60: Grade F\n",
        "grade=int(input(\"enter the grade:\"))\n",
        "if(grade>=90):\n",
        "  print(\"Grade A\")\n",
        "elif(90>=grade>=80):\n",
        "  print(\"Grade B\")\n",
        "elif(80>=grade>=70):\n",
        "  print(\"Grade C\")\n",
        "elif(70>=grade>=60):\n",
        "  print(\"Grade D\")\n",
        "elif(grade<60):\n",
        "  print(\"Grade F\")\n",
        "else:\n",
        "  (\"wrong choice\")\n"
      ],
      "metadata": {
        "colab": {
          "base_uri": "https://localhost:8080/"
        },
        "id": "SSHIJvjiDill",
        "outputId": "4a66a0dd-a110-49b2-f4ea-7c2a16ff9725"
      },
      "execution_count": null,
      "outputs": [
        {
          "output_type": "stream",
          "name": "stdout",
          "text": [
            "enter the grade:56\n",
            "Grade F\n"
          ]
        }
      ]
    },
    {
      "cell_type": "code",
      "source": [
        "#Q5 Write a program that checks if a given letter is a vowel (a, e, i, o, u) or a consonant.\n",
        "letter=input(\"enter yout letter:\")\n",
        "if(letter==\"a\" or letter==\"e\" or letter==\"i\" or letter==\"o\" or letter==\"u\"):\n",
        "  print(letter,\"is vowel\")\n",
        "else:\n",
        "  print(letter,\"is consonant\")"
      ],
      "metadata": {
        "colab": {
          "base_uri": "https://localhost:8080/"
        },
        "id": "FGF2wNI-FVSa",
        "outputId": "66fa2778-ee72-467d-844f-104e8264663f"
      },
      "execution_count": null,
      "outputs": [
        {
          "output_type": "stream",
          "name": "stdout",
          "text": [
            "enter yout letter:k\n",
            "k is consonant\n"
          ]
        }
      ]
    },
    {
      "cell_type": "code",
      "source": [
        "#Q6 Write a basic calculator program that takes two numbers and an operator (+, -, *, /) as input and performs the specified operation.\n",
        "#Print the result based on the operation\n",
        "print(\"1.Addition\")\n",
        "print(\"2.Subtract\")\n",
        "print(\"3.Multiply\")\n",
        "print(\"4.Divide\")\n",
        "num1=int(input(\"enter 1st number\"))\n",
        "num2=int(input(\"enter 2nd number\"))\n",
        "choice=input(\"enter your choice:\")\n",
        "if(choice==\"1\"):\n",
        "  print(\"addition=\",num1+num2)\n",
        "elif(choice==\"2\"):\n",
        "  print(\"subtraction=\",num1-num2)\n",
        "elif(choice==\"3\"):\n",
        "  print(\"multiplication=\",num1*num2)\n",
        "elif(choice==\"4\"):\n",
        "  print(\"division=\",num1/num2)\n",
        "else:\n",
        "  print(\"wrong choice\")\n",
        "\n",
        "\n",
        "\n"
      ],
      "metadata": {
        "colab": {
          "base_uri": "https://localhost:8080/"
        },
        "id": "KHb12ctlICf7",
        "outputId": "381de62c-026b-4974-82e5-a8bafb6f6e55"
      },
      "execution_count": null,
      "outputs": [
        {
          "output_type": "stream",
          "name": "stdout",
          "text": [
            "1.Addition\n",
            "2.Subtract\n",
            "3.Multiply\n",
            "4.Divide\n",
            "enter 1st number5\n",
            "enter 2nd number6\n",
            "enter your choice:4\n",
            "division= 0.8333333333333334\n"
          ]
        }
      ]
    },
    {
      "cell_type": "code",
      "source": [
        "#Q7 Write a program that takes a number as input and checks whether it is positive, negative, or zero.\n",
        "num=int(input(\"enter the number:\"))\n",
        "if(num>0):\n",
        "  print(num,\"is positive\")\n",
        "elif(num<0):\n",
        "  print(num,\"is negative\")\n",
        "else:\n",
        "  print(num,\"is zero\")"
      ],
      "metadata": {
        "colab": {
          "base_uri": "https://localhost:8080/"
        },
        "id": "Z6KacDaoJkC4",
        "outputId": "89789741-2311-4092-f64c-47bc52c42d7b"
      },
      "execution_count": null,
      "outputs": [
        {
          "output_type": "stream",
          "name": "stdout",
          "text": [
            "enter the number:5\n",
            "5 is positive\n"
          ]
        }
      ]
    },
    {
      "cell_type": "code",
      "source": [
        "#Q8 Write a program that checks if a username and password entered by the user match the pre-set values\n",
        "#username = \"admin\" and password = \"1234\". If both match, print \"Login Successful\", otherwise print\n",
        "#\"Login Failed\".\n",
        "username= input(\"enter the username:\")\n",
        "password= input(\"enter the password:\")\n",
        "if(username==\"admin\" and password==\"1234\"):\n",
        "  print(\"login successfull\")\n",
        "else:\n",
        "  print(\"login failed\")\n"
      ],
      "metadata": {
        "id": "-KOPXi-cKRWQ",
        "colab": {
          "base_uri": "https://localhost:8080/"
        },
        "outputId": "58f383c7-f573-4753-b2d3-a5c8f41a5e0c"
      },
      "execution_count": 4,
      "outputs": [
        {
          "output_type": "stream",
          "name": "stdout",
          "text": [
            "enter the username:admin\n",
            "enter the password:1234\n",
            "login successfull\n"
          ]
        }
      ]
    },
    {
      "cell_type": "code",
      "source": [
        "#Q9 Write a program that takes three sides of a triangle as input and checks if those sides form a valid\n",
        "#triangle. A triangle is valid if the sum of any two sides is greater than the third side.\n",
        "#Check conditions like a + b > c, b + c > a, and a + c > b\n",
        "a=int(input(\"enter 1st side of a triangle:\"))\n",
        "b=int(input(\"enter 2nd side of a triangle:\"))\n",
        "c=int(input(\"enter 3rd side of a triangle:\"))\n",
        "if(a+b>c and b+c>a and a+c>b):\n",
        "  print(\"it is a valid triangle\")\n",
        "else:\n",
        "  print(\"it is not a valid triangle\")"
      ],
      "metadata": {
        "colab": {
          "base_uri": "https://localhost:8080/"
        },
        "id": "m9R57mnlzBB8",
        "outputId": "470b144e-7d6f-4e64-cf58-cfc8d5c5a90e"
      },
      "execution_count": 7,
      "outputs": [
        {
          "output_type": "stream",
          "name": "stdout",
          "text": [
            "enter 1st side of a triangle:5\n",
            "enter 2nd side of a triangle:6\n",
            "enter 3rd side of a triangle:6\n",
            "it is a valid triangle\n"
          ]
        }
      ]
    },
    {
      "cell_type": "code",
      "source": [
        "#Q10 Write a program that calculates the Body Mass Index (BMI) based on user input for weight (in\n",
        "#kilograms) and height (in meters). Then categorize the BMI into:\n",
        "#Underweight (BMI < 18.5)\n",
        "#Normal weight (18.5 <= BMI < 24.9)\n",
        "#Overweight (25 <= BMI < 29.9)\n",
        "#Obesity (BMI >= 30)\n",
        "weight=float(input(\"enter your weight:\"))\n",
        "height=float(input(\"enter your height:\"))\n",
        "BMI=weight/(height**2)\n",
        "print(\"your bmi is:\",BMI)\n",
        "if(BMI<18.5):\n",
        "  print(\"Underweight\")\n",
        "elif(18.5<=BMI<24.9):\n",
        "  print(\"Normal weight\")\n",
        "elif(25<=BMI<29.9):\n",
        "  print(\"overweight\")\n",
        "else:\n",
        "  print(\"obesity\")\n",
        "\n",
        "\n"
      ],
      "metadata": {
        "colab": {
          "base_uri": "https://localhost:8080/"
        },
        "id": "h4Reun6Y0IfB",
        "outputId": "856f2714-87d8-4ce9-8b40-5099db1aafc0"
      },
      "execution_count": 11,
      "outputs": [
        {
          "output_type": "stream",
          "name": "stdout",
          "text": [
            "enter your weight:60\n",
            "enter your height:1.67\n",
            "your bmi is: 21.513858510523864\n",
            "Normal weight\n"
          ]
        }
      ]
    },
    {
      "cell_type": "code",
      "source": [
        "#Q11 Write a program that calculates the discount for a product based on its price:\n",
        "#If price is greater than 1000, discount is 10%\n",
        "#If price is between 500 and 1000, discount is 5%\n",
        "#Otherwise, no discount\n",
        "#Print the final price after applying the discount\n",
        "price=float(input(\"enter the price:\"))\n",
        "if(price>1000):\n",
        "  print(\"discount is 10%\")\n",
        "  discount=0.10*price\n",
        "elif(500<=price<=1000):\n",
        "  print(\"discount is 5%\")\n",
        "  discount=0.05*price\n",
        "else:\n",
        "  print(\"no discount\")\n",
        "\n",
        "final_price=price-discount\n",
        "print(\"discount applied: rs.\",discount)\n",
        "print(\"final price after discount: rs.\",final_price)"
      ],
      "metadata": {
        "colab": {
          "base_uri": "https://localhost:8080/"
        },
        "id": "DANOIdh01vpR",
        "outputId": "cf91e693-7672-4965-cfae-13ff15cec6e8"
      },
      "execution_count": 15,
      "outputs": [
        {
          "output_type": "stream",
          "name": "stdout",
          "text": [
            "enter the price:670\n",
            "discount is 5%\n",
            "discount applied: rs. 33.5\n",
            "final price after discount: rs. 636.5\n"
          ]
        }
      ]
    },
    {
      "cell_type": "code",
      "source": [
        "#Q12 Write a program that takes the name of a month as input and prints the number of days in that month. Consider leap years for February.\n",
        "a='janruary,march,may,july,august,october,december'\n",
        "b='april,june,september,november'\n",
        "month=input(\"enter the name of the month:\")\n",
        "year=int(input(\"enter the year:\"))\n",
        "if(month==\"february\"):\n",
        "  if(year%4==0 and year%100!=0) or (year%400==0):\n",
        "    print(\"number of days are 29\")\n",
        "  else:\n",
        "    print(\"number of days are 28\")\n",
        "elif(month in a):\n",
        "  print(\"number of days are 31\")\n",
        "elif(month in b):\n",
        "  print(\"number of days are 30\")\n",
        "else:\n",
        "  print(\"invalid month\")\n",
        "\n",
        "\n"
      ],
      "metadata": {
        "colab": {
          "base_uri": "https://localhost:8080/"
        },
        "id": "FJm-Qbrt3jYV",
        "outputId": "5e38a5f2-1376-43a4-ae62-916364249903"
      },
      "execution_count": 27,
      "outputs": [
        {
          "output_type": "stream",
          "name": "stdout",
          "text": [
            "enter the name of the month:may\n",
            "enter the year:2025\n",
            "number of days are 31\n"
          ]
        }
      ]
    },
    {
      "cell_type": "code",
      "source": [
        "#Q13 Write a program that simulates a simple ATM. The user should be able to:\n",
        "#Check balance\n",
        "#Deposit money\n",
        "#Withdraw money (ensure the balance doesn't go negative) Use an if-else structure to handle the user's choices.\n",
        "balance=1000.00\n",
        "\n",
        "while True:\n",
        " print(\"ATM\")\n",
        " print(\"1. Check Balance\")\n",
        " print(\"2. Deposit Money\")\n",
        " print(\"3. Withdraw money\")\n",
        " print(\"4. Exit\")\n",
        " choice=input(\"enter your choice:\")\n",
        " if(choice==\"1\"):\n",
        "   print(\"Your balance is: rs.\",balance)\n",
        " elif(choice==\"2\"):\n",
        "   amount=float(input(\"enter amount to be deposited: rs.\"))\n",
        "   if(amount>0):\n",
        "     balance+=amount\n",
        "     print(amount,\"deposited successfully\")\n",
        "   else:\n",
        "     print(\"invalid amount\")\n",
        " elif(choice==\"3\"):\n",
        "   amount=float(input(\"enter amount to be withdrawn: rs.\"))\n",
        "   if(amount>0):\n",
        "     if(amount<=balance):\n",
        "       balance-=amount\n",
        "       print(amount,\"successfully withdrawn\")\n",
        "     else:\n",
        "       print(\"insufficient balance\")\n",
        "   else:\n",
        "     print(\"invalid withdraw amount\")\n",
        " elif(choice==\"4\"):\n",
        "   print(\"thankyou for using ATM\")\n",
        "   break\n",
        " else:\n",
        "   print(\"invalid choice, choose from (1-4)\")\n",
        "\n"
      ],
      "metadata": {
        "colab": {
          "base_uri": "https://localhost:8080/"
        },
        "id": "mYiN7D9m9e9h",
        "outputId": "3fec37f3-22be-4182-e3a9-1f5e2751aa8f"
      },
      "execution_count": 5,
      "outputs": [
        {
          "output_type": "stream",
          "name": "stdout",
          "text": [
            "ATM\n",
            "1. Check Balance\n",
            "2. Deposit Money\n",
            "3. Withdraw money\n",
            "4. Exit\n",
            "enter your choice:1\n",
            "Your balance is: rs. 1000.0\n",
            "ATM\n",
            "1. Check Balance\n",
            "2. Deposit Money\n",
            "3. Withdraw money\n",
            "4. Exit\n",
            "enter your choice:2\n",
            "enter amount to be deposited: rs.20000\n",
            "20000.0 deposited successfully\n",
            "ATM\n",
            "1. Check Balance\n",
            "2. Deposit Money\n",
            "3. Withdraw money\n",
            "4. Exit\n",
            "enter your choice:3\n",
            "enter amount to be withdrawn: rs.15000\n",
            "15000.0 successfully withdrawn\n",
            "ATM\n",
            "1. Check Balance\n",
            "2. Deposit Money\n",
            "3. Withdraw money\n",
            "4. Exit\n",
            "enter your choice:4\n",
            "thankyou for using ATM\n"
          ]
        }
      ]
    },
    {
      "cell_type": "code",
      "source": [
        "#Q14 Write a program that categorizes a given age into different groups:\n",
        "#Infant (0-1 year)\n",
        "#Toddler (2-4 years)\n",
        "#Child (5-12 years)\n",
        "#Teenager (13-19 years)\n",
        "#Adult (20-59 years)\n",
        "#Senior (60 years and above)\n",
        "age=int(input(\"enter your age:\"))\n",
        "if(0<=age<=1):\n",
        "  print(\"infant\")\n",
        "elif(2<=age<=4):\n",
        "  print(\"toddler\")\n",
        "elif(5<=age<=12):\n",
        "  print(\"child\")\n",
        "elif(13<=age<=19):\n",
        "  print(\"teenager\")\n",
        "elif(20<=age<=59):\n",
        "  print(\"adult\")\n",
        "elif(age>=60):\n",
        "  print(\"Senior\")\n",
        "else:\n",
        "  print(\"innvalid age entered\")"
      ],
      "metadata": {
        "colab": {
          "base_uri": "https://localhost:8080/"
        },
        "id": "XItaSJ8yI7Z4",
        "outputId": "dc682e4e-f8eb-4422-fcfb-dce1bf28c068"
      },
      "execution_count": 7,
      "outputs": [
        {
          "output_type": "stream",
          "name": "stdout",
          "text": [
            "enter your age:3\n",
            "toddler\n"
          ]
        }
      ]
    },
    {
      "cell_type": "code",
      "source": [
        "#Q15 Write a program that takes an integer (1-7) as input and prints the corresponding day of the week (1)for Monday, 2 for Tuesday, etc.\n",
        "choice=int(input(\"enter your choice from (1-7)\"))\n",
        "if(choice==1):\n",
        "  print(\"monday\")\n",
        "elif(choice==2):\n",
        "  print(\"tuesday\")\n",
        "elif(choice==3):\n",
        "  print(\"wednesday\")\n",
        "elif(choice==4):\n",
        "  print(\"thursday\")\n",
        "elif(choice==5):\n",
        "  print(\"friday\")\n",
        "elif(choice==6):\n",
        "  print(\"saturday\")\n",
        "elif(choice==7):\n",
        "  print(\"sunday\")\n",
        "else:\n",
        "  print(\"invalid choice, enter from (1-7)\")\n"
      ],
      "metadata": {
        "colab": {
          "base_uri": "https://localhost:8080/"
        },
        "id": "4XbAPupmMJ5f",
        "outputId": "a387787f-878a-4e15-82e3-0d5fd0e6bb8f"
      },
      "execution_count": 10,
      "outputs": [
        {
          "output_type": "stream",
          "name": "stdout",
          "text": [
            "enter your choice from (1-7)5\n",
            "friday\n"
          ]
        }
      ]
    }
  ]
}