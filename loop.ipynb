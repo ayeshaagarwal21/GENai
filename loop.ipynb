{
  "nbformat": 4,
  "nbformat_minor": 0,
  "metadata": {
    "colab": {
      "provenance": [],
      "authorship_tag": "ABX9TyNJz8+TmhKlZC1gcVczxAkA",
      "include_colab_link": true
    },
    "kernelspec": {
      "name": "python3",
      "display_name": "Python 3"
    },
    "language_info": {
      "name": "python"
    }
  },
  "cells": [
    {
      "cell_type": "markdown",
      "metadata": {
        "id": "view-in-github",
        "colab_type": "text"
      },
      "source": [
        "<a href=\"https://colab.research.google.com/github/ayeshaagarwal21/GENai/blob/main/loop.ipynb\" target=\"_parent\"><img src=\"https://colab.research.google.com/assets/colab-badge.svg\" alt=\"Open In Colab\"/></a>"
      ]
    },
    {
      "cell_type": "code",
      "execution_count": null,
      "metadata": {
        "colab": {
          "base_uri": "https://localhost:8080/"
        },
        "id": "-XRXATDf5iQn",
        "outputId": "96c92fd2-4bf5-4615-c2f5-c71e34b6036c"
      },
      "outputs": [
        {
          "output_type": "stream",
          "name": "stdout",
          "text": [
            "enter a number:12\n",
            "1\n",
            "2\n",
            "3\n",
            "4\n",
            "5\n",
            "6\n",
            "7\n",
            "8\n",
            "9\n",
            "10\n",
            "11\n"
          ]
        }
      ],
      "source": [
        "#1.Write a program to print all natural numbers from 1 to n. – using while loop\n",
        "n=int(input(\"enter a number:\"))\n",
        "x=1\n",
        "while(x<n):\n",
        "  print(x)\n",
        "  x+=1"
      ]
    },
    {
      "cell_type": "code",
      "source": [
        "#2.Write a program to print all natural numbers in reverse (from n to 1). – using while loop\n",
        "n=int(input(\"enter a number:\"))\n",
        "x=n\n",
        "while(x>=1):\n",
        "  print(x)\n",
        "  x-=1"
      ],
      "metadata": {
        "colab": {
          "base_uri": "https://localhost:8080/"
        },
        "id": "x6plm2vc6ggZ",
        "outputId": "d94193c3-857d-4d7d-c0cd-95d21de62181"
      },
      "execution_count": null,
      "outputs": [
        {
          "output_type": "stream",
          "name": "stdout",
          "text": [
            "enter a number:6\n",
            "6\n",
            "5\n",
            "4\n",
            "3\n",
            "2\n",
            "1\n"
          ]
        }
      ]
    },
    {
      "cell_type": "code",
      "source": [
        "#3.Write a program to print all alphabets from a to z. – using while loop\n",
        "x='a'\n",
        "while(x<='z'):\n",
        "  print(x)\n",
        "  x = chr(ord(x) + 1)"
      ],
      "metadata": {
        "colab": {
          "base_uri": "https://localhost:8080/"
        },
        "id": "BsoNdOvp66j0",
        "outputId": "fbc5dd32-918f-4dc2-baac-1404e81c8d3b"
      },
      "execution_count": null,
      "outputs": [
        {
          "output_type": "stream",
          "name": "stdout",
          "text": [
            "a\n",
            "b\n",
            "c\n",
            "d\n",
            "e\n",
            "f\n",
            "g\n",
            "h\n",
            "i\n",
            "j\n",
            "k\n",
            "l\n",
            "m\n",
            "n\n",
            "o\n",
            "p\n",
            "q\n",
            "r\n",
            "s\n",
            "t\n",
            "u\n",
            "v\n",
            "w\n",
            "x\n",
            "y\n",
            "z\n"
          ]
        }
      ]
    },
    {
      "cell_type": "code",
      "source": [
        "#4.Write a program to print all even numbers between 1 to 100. – using while loop\n",
        "x=1\n",
        "while(x<=100):\n",
        "  if(x%2==0):\n",
        "    print(\"number is:\",x)\n",
        "  x+=1"
      ],
      "metadata": {
        "colab": {
          "base_uri": "https://localhost:8080/"
        },
        "id": "jrBiUqyoGjgp",
        "outputId": "9674b03b-9a6c-4239-dc3b-d9931ca4de87"
      },
      "execution_count": null,
      "outputs": [
        {
          "output_type": "stream",
          "name": "stdout",
          "text": [
            "number is: 2\n",
            "number is: 4\n",
            "number is: 6\n",
            "number is: 8\n",
            "number is: 10\n",
            "number is: 12\n",
            "number is: 14\n",
            "number is: 16\n",
            "number is: 18\n",
            "number is: 20\n",
            "number is: 22\n",
            "number is: 24\n",
            "number is: 26\n",
            "number is: 28\n",
            "number is: 30\n",
            "number is: 32\n",
            "number is: 34\n",
            "number is: 36\n",
            "number is: 38\n",
            "number is: 40\n",
            "number is: 42\n",
            "number is: 44\n",
            "number is: 46\n",
            "number is: 48\n",
            "number is: 50\n",
            "number is: 52\n",
            "number is: 54\n",
            "number is: 56\n",
            "number is: 58\n",
            "number is: 60\n",
            "number is: 62\n",
            "number is: 64\n",
            "number is: 66\n",
            "number is: 68\n",
            "number is: 70\n",
            "number is: 72\n",
            "number is: 74\n",
            "number is: 76\n",
            "number is: 78\n",
            "number is: 80\n",
            "number is: 82\n",
            "number is: 84\n",
            "number is: 86\n",
            "number is: 88\n",
            "number is: 90\n",
            "number is: 92\n",
            "number is: 94\n",
            "number is: 96\n",
            "number is: 98\n",
            "number is: 100\n"
          ]
        }
      ]
    },
    {
      "cell_type": "code",
      "source": [
        "#5.Write a program to find the sum of all odd numbers between 1 to n.\n",
        "n=int(input(\"enter a number:\"))\n",
        "x=1\n",
        "sum=0\n",
        "while(x<=n):\n",
        "  if(x%2!=0):\n",
        "    sum=sum+x\n",
        "  x+=1\n",
        "\n",
        "print(\"the sum of odd numbers between 1 to\",n,\"is:\",sum)"
      ],
      "metadata": {
        "colab": {
          "base_uri": "https://localhost:8080/"
        },
        "id": "fmtrMyNHHDf-",
        "outputId": "3f11b532-0875-4445-cd4d-1ce66c6e4227"
      },
      "execution_count": null,
      "outputs": [
        {
          "output_type": "stream",
          "name": "stdout",
          "text": [
            "enter a number:5\n",
            "the sum of odd numbers between 1 to 5 is: 9\n"
          ]
        }
      ]
    },
    {
      "cell_type": "code",
      "source": [
        "#6.Write a program to count the number of digits in a number.\n",
        "num=int(input(\"enter a number:\"))\n",
        "count=0\n",
        "if(num==0):\n",
        "  count=1\n",
        "else:\n",
        "  while(num!=0):\n",
        "    num=num//10\n",
        "    count+=1\n",
        "print(\"the number of digits are:\",count)"
      ],
      "metadata": {
        "id": "_agxDQ2eJ-f3",
        "colab": {
          "base_uri": "https://localhost:8080/"
        },
        "outputId": "98d5d0b7-a83b-4f6e-f516-5756f27b017d"
      },
      "execution_count": null,
      "outputs": [
        {
          "output_type": "stream",
          "name": "stdout",
          "text": [
            "enter a number:34213\n",
            "the number of digits are: 5\n"
          ]
        }
      ]
    },
    {
      "cell_type": "code",
      "source": [
        "#7. Write a program to calculate the sum of digits of a number.\n",
        "num=int(input(\"enter the number:\"))\n",
        "sum=0\n",
        "while(num!=0):\n",
        "  digit=num%10\n",
        "  sum=sum+digit\n",
        "  num=num//10\n",
        "print(\"the sum of the digits:\",sum)\n"
      ],
      "metadata": {
        "colab": {
          "base_uri": "https://localhost:8080/"
        },
        "id": "MPRCmB_LOV_S",
        "outputId": "c66d59ae-0418-4195-a620-a39e21ca9287"
      },
      "execution_count": null,
      "outputs": [
        {
          "output_type": "stream",
          "name": "stdout",
          "text": [
            "enter the number:1234\n",
            "the sum of the digits: 10\n"
          ]
        }
      ]
    },
    {
      "cell_type": "code",
      "source": [
        "#8. Write a program to find the first and last digit of a number.\n",
        "num=int(input(\"enter the number:\"))\n",
        "original_number = num\n",
        "last_digit=num%10\n",
        "while(num>=10):\n",
        "  num=num//10\n",
        "first_digit=num\n",
        "print(\"the first digit of\",original_number,\"is:\",first_digit)\n",
        "print(\"the first digit of\",original_number,\"is:\",last_digit)"
      ],
      "metadata": {
        "colab": {
          "base_uri": "https://localhost:8080/"
        },
        "id": "NRjX9S06O_bJ",
        "outputId": "febb9b80-cb7a-4fb3-8d4c-3ef3df605c24"
      },
      "execution_count": null,
      "outputs": [
        {
          "output_type": "stream",
          "name": "stdout",
          "text": [
            "enter the number:567888\n",
            "the first digit of 567888 is: 5\n",
            "the first digit of 567888 is: 8\n"
          ]
        }
      ]
    },
    {
      "cell_type": "code",
      "source": [
        "#9. Write a program to find the sum of first and last digit of a number.\n",
        "sum=0\n",
        "num=int(input(\"enter the number:\"))\n",
        "original_number = num\n",
        "last_digit=num%10\n",
        "while(num>=10):\n",
        "  num=num//10\n",
        "first_digit=num\n",
        "sum=last_digit+first_digit\n",
        "print(\"the sum of first and last\",original_number,\"is:\",sum)"
      ],
      "metadata": {
        "colab": {
          "base_uri": "https://localhost:8080/"
        },
        "id": "6o5I64imQqpL",
        "outputId": "9c8977dd-4b07-4841-f9e2-8ebe73f58bb7"
      },
      "execution_count": 1,
      "outputs": [
        {
          "output_type": "stream",
          "name": "stdout",
          "text": [
            "enter the number:23445\n",
            "the sum of first and last 23445 is: 7\n"
          ]
        }
      ]
    },
    {
      "cell_type": "code",
      "source": [
        "#10.Write a program to enter a number and print its reverse.\n",
        "num=int(input(\"enter a number:\"))\n",
        "reverse=0\n",
        "while(num!=0):\n",
        "  digit=num%10\n",
        "  reverse=reverse*10+digit\n",
        "  num=num//10\n",
        "\n",
        "print(\"reverse a number:\",reverse)"
      ],
      "metadata": {
        "colab": {
          "base_uri": "https://localhost:8080/"
        },
        "id": "ASmKb9Q3RQwE",
        "outputId": "58a68c25-1d96-4007-ca71-a2e6f918b521"
      },
      "execution_count": null,
      "outputs": [
        {
          "output_type": "stream",
          "name": "stdout",
          "text": [
            "enter a number:123456\n",
            "reverse a number: 654321\n"
          ]
        }
      ]
    },
    {
      "cell_type": "code",
      "source": [
        "#11.Write a program to find the power of a number using for loop.\n",
        "base=int(input(\"enter the base:\"))\n",
        "exponent=int(input(\"enter the power:\"))\n",
        "result=1\n",
        "for i in range(exponent):\n",
        "  result=result*base\n",
        "print(f\"{base} raised to power {exponent} is: {result}\")"
      ],
      "metadata": {
        "colab": {
          "base_uri": "https://localhost:8080/"
        },
        "id": "t1OH_ojYR30q",
        "outputId": "ccc446b0-b4fb-4698-dac2-6b0ff3de1822"
      },
      "execution_count": null,
      "outputs": [
        {
          "output_type": "stream",
          "name": "stdout",
          "text": [
            "enter the base:3\n",
            "enter the power:3\n",
            "3 raised to power 3 is: 27\n"
          ]
        }
      ]
    },
    {
      "cell_type": "code",
      "source": [
        "#12.Write a program to find all factors of a number.\n",
        "number=int(input(\"enter a number:\"))\n",
        "print(f\"factors of {number} are:\")\n",
        "for i in range(1,number+1):\n",
        "  if (number%i==0):\n",
        "    print(i)\n"
      ],
      "metadata": {
        "id": "lXRcdbQ8TWMy",
        "colab": {
          "base_uri": "https://localhost:8080/"
        },
        "outputId": "9e120355-0313-4611-9d1a-a21960caa874"
      },
      "execution_count": 3,
      "outputs": [
        {
          "output_type": "stream",
          "name": "stdout",
          "text": [
            "enter a number:4\n",
            "factors of 4 are:\n",
            "1\n",
            "2\n",
            "4\n"
          ]
        }
      ]
    },
    {
      "cell_type": "code",
      "source": [
        "#13.Write a program to calculate the factorial of a number.\n",
        "num=int(input(\"enter a number:\"))\n",
        "fact=1\n",
        "for i in range(1,num+1):\n",
        "  fact=fact*i\n",
        "print(f\"factorial of {num} is:\",fact)\n"
      ],
      "metadata": {
        "colab": {
          "base_uri": "https://localhost:8080/"
        },
        "id": "Azs546CZUmu6",
        "outputId": "cdc22d23-11f4-4fea-9667-49fce03d8904"
      },
      "execution_count": 6,
      "outputs": [
        {
          "output_type": "stream",
          "name": "stdout",
          "text": [
            "enter a number:3\n",
            "factorial of 3 is: 6\n"
          ]
        }
      ]
    },
    {
      "cell_type": "code",
      "source": [
        "#14.Write a program to find LCM of two numbers.\n",
        "num=int(input(\"enter a number:\"))\n",
        "num2=int(input(\"enter a number:\"))\n",
        "if(num>num2):\n",
        "  greater=num\n",
        "else:\n",
        "  greater=num2\n",
        "while(True):\n",
        "  if((greater%num==0) and (greater%num2==0)):\n",
        "    lcm=greater\n",
        "    break\n",
        "  greater+=1\n",
        "\n",
        "print(f\"lcm of {num} and {num2} is:\",lcm)\n"
      ],
      "metadata": {
        "colab": {
          "base_uri": "https://localhost:8080/"
        },
        "id": "_gMJ1STzVjK6",
        "outputId": "878d7813-fdee-47a2-a364-2e114b132d8d"
      },
      "execution_count": 4,
      "outputs": [
        {
          "output_type": "stream",
          "name": "stdout",
          "text": [
            "enter a number:2\n",
            "enter a number:3\n",
            "lcm of 2 and 3 is: 6\n"
          ]
        }
      ]
    },
    {
      "cell_type": "code",
      "source": [
        "#15.Write a program to check whether a number is Prime number or not.\n",
        "num=int(input(\"enter a number:\"))\n",
        "for i in range(2,num):\n",
        "  if(num%i==0):\n",
        "    print(f\"{num} is not prime\")\n",
        "    break\n",
        "  else:\n",
        "    print(f\"{num} is prime\")"
      ],
      "metadata": {
        "colab": {
          "base_uri": "https://localhost:8080/"
        },
        "id": "tQK8miB9XIEs",
        "outputId": "108f9972-ffe9-46ab-c4fa-d482504755ac"
      },
      "execution_count": 7,
      "outputs": [
        {
          "output_type": "stream",
          "name": "stdout",
          "text": [
            "enter a number:3\n",
            "3 is prime\n"
          ]
        }
      ]
    },
    {
      "cell_type": "code",
      "source": [
        "#16.Write a program to print all Prime numbers between 1 to n.\n",
        "num=int(input(\"enter a number:\"))\n",
        "print(f\"prime number between 1 to {num}:\")\n",
        "for n in range(2,num+1):\n",
        "  count=0\n",
        "  for i in range(1,num+1):\n",
        "     if(n%i==0):\n",
        "      count+=1\n",
        "  if count==2:\n",
        "    print(n)"
      ],
      "metadata": {
        "id": "ErqV6PkUZ1Zg",
        "outputId": "d516d281-74be-4977-b571-c298500b0f97",
        "colab": {
          "base_uri": "https://localhost:8080/"
        }
      },
      "execution_count": 17,
      "outputs": [
        {
          "output_type": "stream",
          "name": "stdout",
          "text": [
            "enter a number:5\n",
            "prime number between 1 to 5:\n",
            "2\n",
            "3\n",
            "5\n"
          ]
        }
      ]
    },
    {
      "cell_type": "code",
      "source": [
        "#17.Write a program to find all prime factors of a number.\n",
        "num=int(input(\"enter a number:\"))\n",
        "print(f\"prime factors of {num}:\")\n",
        "for i in range(2,num+1):\n",
        "  if(num%i==0):\n",
        "    print(i)\n",
        "    num//=i"
      ],
      "metadata": {
        "id": "ef2vP_5Ud1Kj",
        "outputId": "53047b9c-8463-41e7-881e-4fb86bc06ab5",
        "colab": {
          "base_uri": "https://localhost:8080/"
        }
      },
      "execution_count": 18,
      "outputs": [
        {
          "output_type": "stream",
          "name": "stdout",
          "text": [
            "enter a number:20\n",
            "prime factors of 20:\n",
            "2\n",
            "5\n"
          ]
        }
      ]
    },
    {
      "cell_type": "code",
      "source": [
        "#18.Write a program to check whether a number is an Armstrong number or not.\n",
        "num=int(input(\"enter a number:\"))\n",
        "temp=num\n",
        "sum=0\n",
        "while(num>0):\n",
        "  rem=num%10\n",
        "  num=num//10\n",
        "  print(rem, num)\n",
        "  sum=(sum+rem**3)\n",
        "\n",
        "if(sum== temp):\n",
        "  print(\"armstrong\")\n",
        "else:\n",
        "  print(\"not armstrong\")"
      ],
      "metadata": {
        "id": "2guwVApjcLYf",
        "outputId": "7d2b3777-dbfc-46bd-be34-a0faa1b91dc7",
        "colab": {
          "base_uri": "https://localhost:8080/"
        }
      },
      "execution_count": 19,
      "outputs": [
        {
          "output_type": "stream",
          "name": "stdout",
          "text": [
            "enter a number:153\n",
            "3 15\n",
            "5 1\n",
            "1 0\n",
            "armstrong\n"
          ]
        }
      ]
    },
    {
      "cell_type": "code",
      "source": [
        "#19.Write a program to check whether a number is Strong number or not\n",
        "num=int(input(\"enter a number:\"))\n",
        "original=num\n",
        "sum=0\n",
        "for digit in str(num):\n",
        "  digit=int(digit)\n",
        "  fact=1\n",
        "  for i in range(1,digit+1):\n",
        "    fact*=i\n",
        "  sum+=fact\n",
        "if(sum==original):\n",
        "  print(f\"{num} is a strong number\")\n",
        "else:\n",
        "  print(f\"{num} is not a strong number\")"
      ],
      "metadata": {
        "id": "f1s9ugewexWT",
        "outputId": "ac110a65-bdb6-4832-df76-ce579fce574d",
        "colab": {
          "base_uri": "https://localhost:8080/"
        }
      },
      "execution_count": 25,
      "outputs": [
        {
          "output_type": "stream",
          "name": "stdout",
          "text": [
            "enter a number:145\n",
            "145 is a strong number\n"
          ]
        }
      ]
    },
    {
      "cell_type": "code",
      "source": [
        "#20.Write a program to check whether a number is perfect number or not\n",
        "number=int(input(\"enter a number:\"))\n",
        "sum=0\n",
        "for i in range(1,number):\n",
        "  if (number%i==0):\n",
        "    sum+=i\n",
        "if(original==sum):\n",
        "  print(f\"{number} is perfect\")\n",
        "else:\n",
        "  print(f\"{number} is not perfect\")\n"
      ],
      "metadata": {
        "id": "LG0794PohMfA",
        "outputId": "6d803c33-581f-41d7-d795-ea650becef06",
        "colab": {
          "base_uri": "https://localhost:8080/"
        }
      },
      "execution_count": 29,
      "outputs": [
        {
          "output_type": "stream",
          "name": "stdout",
          "text": [
            "enter a number:6\n",
            "6 is perfect\n"
          ]
        }
      ]
    },
    {
      "cell_type": "code",
      "source": [
        "#21.Write a program to print fibonacci series upto n terms\n",
        "n = int(input(\"Enter the number of terms: \"))\n",
        "a, b = 0, 1\n",
        "print(\"Fibonacci series:\")\n",
        "for i in range(n):\n",
        "    print(a, end=\" \")\n",
        "    a, b = b, a + b"
      ],
      "metadata": {
        "id": "p2CU5PhLjvHK",
        "outputId": "b316b835-eef0-4392-eab6-b5cf2d5b0797",
        "colab": {
          "base_uri": "https://localhost:8080/"
        }
      },
      "execution_count": 34,
      "outputs": [
        {
          "output_type": "stream",
          "name": "stdout",
          "text": [
            "Enter the number of terms: 5\n",
            "Fibonacci series:\n",
            "0 1 1 2 3 "
          ]
        }
      ]
    },
    {
      "cell_type": "code",
      "source": [
        "#22.Write a program to find ones complement of a binary number\n",
        "num=int(input(\"enter a number in 0's and 1's:\"))\n",
        "complement=\" \"\n",
        "for digit in str(num):\n",
        "  digit=int(digit)\n",
        "  if(digit==0):\n",
        "    complement+='1'\n",
        "  elif(digit==1):\n",
        "    complement+='0'\n",
        "  else:\n",
        "    print(\"invalid input, only allowed in 0's and 1's\")\n",
        "else:\n",
        "  print(f\"one's complement of {num} is:\",complement)"
      ],
      "metadata": {
        "id": "a8dn0mvRkU7o",
        "outputId": "031bd75a-8b3b-4c2c-811f-97d6f7737205",
        "colab": {
          "base_uri": "https://localhost:8080/"
        }
      },
      "execution_count": 32,
      "outputs": [
        {
          "output_type": "stream",
          "name": "stdout",
          "text": [
            "enter a number in 0's and 1's:1001\n",
            "one's complement of 1001 is:  0110\n"
          ]
        }
      ]
    }
  ]
}