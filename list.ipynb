{
  "nbformat": 4,
  "nbformat_minor": 0,
  "metadata": {
    "colab": {
      "provenance": [],
      "authorship_tag": "ABX9TyNPqRDgH0BrWkPGQyeKSFkg",
      "include_colab_link": true
    },
    "kernelspec": {
      "name": "python3",
      "display_name": "Python 3"
    },
    "language_info": {
      "name": "python"
    }
  },
  "cells": [
    {
      "cell_type": "markdown",
      "metadata": {
        "id": "view-in-github",
        "colab_type": "text"
      },
      "source": [
        "<a href=\"https://colab.research.google.com/github/ayeshaagarwal21/GENai/blob/main/list.ipynb\" target=\"_parent\"><img src=\"https://colab.research.google.com/assets/colab-badge.svg\" alt=\"Open In Colab\"/></a>"
      ]
    },
    {
      "cell_type": "code",
      "execution_count": null,
      "metadata": {
        "colab": {
          "base_uri": "https://localhost:8080/"
        },
        "id": "siaD594N1DC1",
        "outputId": "af33bc7d-b87f-41f9-f72b-7e0367759a8c"
      },
      "outputs": [
        {
          "output_type": "stream",
          "name": "stdout",
          "text": [
            "The maximum number: 99\n"
          ]
        }
      ],
      "source": [
        "#1. Write a Python program to find the maximum element in a list of numbers without max functions\n",
        "#numbers = [10, 20, 4, 45, 99]\n",
        "numbers = [10, 20, 4, 45, 99]\n",
        "maximum = numbers[0]\n",
        "for num in numbers:\n",
        "    if num > maximum:\n",
        "        maximum = num\n",
        "print(\"The maximum number:\", maximum)\n"
      ]
    },
    {
      "cell_type": "code",
      "source": [
        "#2. Write a Python program to sum all the elements in a list of numbers.\n",
        "#numbers = [10, 20, 30, 40]\n",
        "num=[10, 20, 30, 40]\n",
        "sum=0\n",
        "for i in num:\n",
        "  sum += i\n",
        "\n",
        "print(\"the sum of all numbers:\",sum)\n"
      ],
      "metadata": {
        "colab": {
          "base_uri": "https://localhost:8080/"
        },
        "id": "O3vbCJwD2-yz",
        "outputId": "9fb13fc4-e51f-485c-f251-f6f7cce6b70b"
      },
      "execution_count": null,
      "outputs": [
        {
          "output_type": "stream",
          "name": "stdout",
          "text": [
            "the sum of all numbers: 100\n"
          ]
        }
      ]
    },
    {
      "cell_type": "code",
      "source": [
        "#3. Write a Python program to reverse a list without reverse or slicing operator\n",
        "#numbers = [1, 2, 3, 4, 5]\n",
        "num=[1, 2, 3, 4, 5]\n",
        "print(\"original list:\",num)\n",
        "rev_list=[]\n",
        "for i in num:\n",
        "  rev_list.insert(0,i)\n",
        "print(\"reverse of the list is:\",rev_list)"
      ],
      "metadata": {
        "colab": {
          "base_uri": "https://localhost:8080/"
        },
        "id": "UGaWkHvN3-G2",
        "outputId": "2bfbf538-be63-4797-b53a-ebf938ff51ee"
      },
      "execution_count": null,
      "outputs": [
        {
          "output_type": "stream",
          "name": "stdout",
          "text": [
            "original list: [1, 2, 3, 4, 5]\n",
            "reverse of the list is: [5, 4, 3, 2, 1]\n"
          ]
        }
      ]
    },
    {
      "cell_type": "code",
      "source": [
        "#4. Write a Python program to sort a list in ascending order without sort functions\n",
        "numbers = [23, 12, 5, 67, 1, 34]\n",
        "n=len(numbers)\n",
        "for i in range(n):\n",
        "  for j in range(0,n-i-1):\n",
        "    if(numbers[j]>numbers[j+1]):\n",
        "      numbers[j],numbers[j+1]=numbers[j+1],numbers[j]\n",
        "print(\"sorted list in ascending order\",numbers)"
      ],
      "metadata": {
        "id": "osE3Y8Av4vJZ",
        "colab": {
          "base_uri": "https://localhost:8080/"
        },
        "outputId": "b6e72748-71d0-4f20-abcf-6953a0e3f651"
      },
      "execution_count": 2,
      "outputs": [
        {
          "output_type": "stream",
          "name": "stdout",
          "text": [
            "sorted list in ascending order [1, 5, 12, 23, 34, 67]\n"
          ]
        }
      ]
    },
    {
      "cell_type": "code",
      "source": [
        "#5. Write a Python program to remove duplicates from a list while maintaining the order of elements.\n",
        "#numbers = [1, 2, 2, 3, 4, 4, 5]\n",
        "num=[1, 2, 2, 3, 4, 4, 5]\n",
        "print(\"original list:\",num)\n",
        "unique=[]\n",
        "for i in num:\n",
        "  if i not in unique:\n",
        "    unique.append(i)\n",
        "\n",
        "print(\"list after removing duplicate:\",unique)"
      ],
      "metadata": {
        "colab": {
          "base_uri": "https://localhost:8080/"
        },
        "id": "k-RTslQc5_bW",
        "outputId": "c2a3c8b8-4815-4f92-9725-1680d07c7eb4"
      },
      "execution_count": null,
      "outputs": [
        {
          "output_type": "stream",
          "name": "stdout",
          "text": [
            "original list: [1, 2, 2, 3, 4, 4, 5]\n",
            "list after removing duplicate: [1, 2, 3, 4, 5]\n"
          ]
        }
      ]
    },
    {
      "cell_type": "code",
      "source": [
        "#6. Write a Python program to find all pairs of numbers in a list that add up to a specific target sum.\n",
        "#numbers = [1, 2, 3, 4, 3, 5, 6] target_sum = 6\n",
        "numbers=[1,2,3,4,5,6]\n",
        "for index in range(len(numbers)):\n",
        "  curr=numbers[index]\n",
        "\n",
        "  for index2 in range(index+1,len(numbers)):\n",
        "    next=numbers[index2]\n",
        "    if(curr+next==6):\n",
        "      print(\"two elements that add upto 6 are:\",curr,next)\n"
      ],
      "metadata": {
        "colab": {
          "base_uri": "https://localhost:8080/"
        },
        "id": "-SoVmC-k6_bK",
        "outputId": "3506edd6-522f-4f62-de63-bd11b9314eca"
      },
      "execution_count": null,
      "outputs": [
        {
          "output_type": "stream",
          "name": "stdout",
          "text": [
            "two elements that add upto 6 are: 1 5\n",
            "two elements that add upto 6 are: 2 4\n"
          ]
        }
      ]
    },
    {
      "cell_type": "code",
      "source": [
        "#7. Write a Python program to flatten a nested list (list within lists) into a single list.\n",
        "#nested_list = [1, [2, 3], [4, [5, 6], 7], 8]\n",
        "nested_list = [1, [2, 3], [4, [5, 6], 7], 8]\n",
        "flat_list = []\n",
        "for item in nested_list:\n",
        "    if type(item) == list:\n",
        "        for subitem in item:\n",
        "            if type(subitem) == list:\n",
        "                for val in subitem:\n",
        "                    flat_list.append(val)\n",
        "            else:\n",
        "                flat_list.append(subitem)\n",
        "    else:\n",
        "        flat_list.append(item)\n",
        "\n",
        "print(\"nested list:\",nested_list)\n",
        "print(\"flattened list:\", flat_list)\n",
        "\n"
      ],
      "metadata": {
        "colab": {
          "base_uri": "https://localhost:8080/"
        },
        "id": "QkXfYS3b9Gd7",
        "outputId": "ba6da447-d422-49dd-c786-6e0aa2cb7373"
      },
      "execution_count": null,
      "outputs": [
        {
          "output_type": "stream",
          "name": "stdout",
          "text": [
            "nested list: [1, [2, 3], [4, [5, 6], 7], 8]\n",
            "flattened list: [1, 2, 3, 4, 5, 6, 7, 8]\n"
          ]
        }
      ]
    },
    {
      "cell_type": "code",
      "source": [
        "#8. Write a Python program to find the sum of the elements in a list, excluding the largest and smallest element. Don’t use max or min functions\n",
        "#numbers = [1, 2, 3, 4, 5]\n",
        "num=[1, 2, 3, 4, 5]\n",
        "smallest=largest=num[0]\n",
        "total=0\n",
        "for i in num:\n",
        "  total+=i\n",
        "  if(i<smallest):\n",
        "    smallest=i\n",
        "  elif(i>largest):\n",
        "    largest=i\n",
        "\n",
        "print(\"sum excluding largest and smallest:\",total-smallest-largest)"
      ],
      "metadata": {
        "colab": {
          "base_uri": "https://localhost:8080/"
        },
        "id": "Gg8NbkUdBnfi",
        "outputId": "b497948f-1866-438d-8292-2b613aded24b"
      },
      "execution_count": null,
      "outputs": [
        {
          "output_type": "stream",
          "name": "stdout",
          "text": [
            "sum excluding largest and smallest: 9\n"
          ]
        }
      ]
    },
    {
      "cell_type": "code",
      "source": [
        "#9. Write a Python program to check if a list is a palindrome (reads the same backward as forward) using two pointer approach\n",
        "#numbers = [1, 2, 3, 2, 1]\n",
        "num=[1,2,3,2,1]\n",
        "i=0\n",
        "j=len(num)-1\n",
        "while(i<j):\n",
        "  if(num[i]!=num[j]):\n",
        "    print(\"the list is not palindrome\")\n",
        "    break\n",
        "    i+=1\n",
        "    j-=1\n",
        "  else:\n",
        "    print(\"the list is palindrome\")\n",
        "    break\n"
      ],
      "metadata": {
        "colab": {
          "base_uri": "https://localhost:8080/"
        },
        "id": "RczVtihrD_fO",
        "outputId": "d11ad01b-7feb-42d3-9262-2c4ff719b0f9"
      },
      "execution_count": null,
      "outputs": [
        {
          "output_type": "stream",
          "name": "stdout",
          "text": [
            "the list is palindrome\n"
          ]
        }
      ]
    },
    {
      "cell_type": "code",
      "source": [
        "#Write a function to remove duplicate elements from a list.\n",
        "#numbers = [1, 2, 3, 2, 4, 5, 1, 6]\n",
        "def duplicate():\n",
        "  num=[1, 2, 2, 3, 4, 4, 5]\n",
        "  print(\"original list:\",num)\n",
        "  unique=[]\n",
        "  for i in num:\n",
        "    if i not in unique:\n",
        "      unique.append(i)\n",
        "\n",
        "  print(\"list after removing duplicate:\",unique)\n",
        "duplicate()"
      ],
      "metadata": {
        "colab": {
          "base_uri": "https://localhost:8080/"
        },
        "id": "sK_uSDLiF38O",
        "outputId": "690c52e2-6f36-4926-b12a-b1a549a87225"
      },
      "execution_count": null,
      "outputs": [
        {
          "output_type": "stream",
          "name": "stdout",
          "text": [
            "original list: [1, 2, 2, 3, 4, 4, 5]\n",
            "list after removing duplicate: [1, 2, 3, 4, 5]\n"
          ]
        }
      ]
    },
    {
      "cell_type": "code",
      "source": [
        "#11. Find Common Elements in Two Lists\n",
        "#a. list1 = [1, 2, 3, 4, 5]\n",
        "#b. list2 = [3, 4, 5, 6, 7]\n",
        "list1 = [1, 2, 3, 4, 5]\n",
        "list2 = [3, 4, 5, 6, 7]\n",
        "for i in list1:\n",
        "  if i in list2:\n",
        "    print(\"common elements are:\",i)"
      ],
      "metadata": {
        "colab": {
          "base_uri": "https://localhost:8080/"
        },
        "id": "b00yaGEUGvEj",
        "outputId": "524651f1-f369-4cca-9c20-0b52dffd7da7"
      },
      "execution_count": null,
      "outputs": [
        {
          "output_type": "stream",
          "name": "stdout",
          "text": [
            "common elements are: 3\n",
            "common elements are: 4\n",
            "common elements are: 5\n"
          ]
        }
      ]
    },
    {
      "cell_type": "code",
      "source": [
        "#12. Find the Longest Word in a List\n",
        "#words = [\"apple\", \"banana\", \"strawberry\", \"kiwi\"]\n",
        "words = [\"apple\", \"banana\", \"strawberry\", \"kiwi\"]\n",
        "longest=words[0]\n",
        "for word in words:\n",
        "  if len(word)>len(longest):\n",
        "    longest=word\n",
        "\n",
        "print(\"longest word is:\",longest)"
      ],
      "metadata": {
        "colab": {
          "base_uri": "https://localhost:8080/"
        },
        "id": "_EETBfN2Hq7s",
        "outputId": "1c80c007-0fc5-4448-ce86-02d978e70ae5"
      },
      "execution_count": null,
      "outputs": [
        {
          "output_type": "stream",
          "name": "stdout",
          "text": [
            "longest word is: strawberry\n"
          ]
        }
      ]
    },
    {
      "cell_type": "code",
      "source": [
        "#13. Find Missing Number in a List\n",
        "num=[1,2,4,5]\n",
        "num.sort()\n",
        "for i in range(1,len(num)+1):\n",
        "  if i not in num:\n",
        "    print(\"missing number\",i)\n",
        "\n"
      ],
      "metadata": {
        "colab": {
          "base_uri": "https://localhost:8080/"
        },
        "id": "HSQODWBlI38d",
        "outputId": "47b00a3a-a6e7-4ac1-8a54-99de6586c0c5"
      },
      "execution_count": null,
      "outputs": [
        {
          "output_type": "stream",
          "name": "stdout",
          "text": [
            "missing number 3\n"
          ]
        }
      ]
    },
    {
      "cell_type": "code",
      "source": [
        "#14. Find the First Non-Repeating Element\n",
        "#Given a list of integers, find the first element that appears only once.\n",
        "#numbers = [4, 5, 1, 2, 0, 4, 5, 2]\n",
        "numbers = [4, 5, 1, 2, 0, 4, 5, 2]\n",
        "for i in numbers:\n",
        "  if(numbers.count(i)==1):\n",
        "    print(\"number that only appears once:\",i)\n",
        "    break"
      ],
      "metadata": {
        "colab": {
          "base_uri": "https://localhost:8080/"
        },
        "id": "FX2_cpRcKNr9",
        "outputId": "74901fd2-e663-4b0f-e7b7-4b7b66c6d3bd"
      },
      "execution_count": null,
      "outputs": [
        {
          "output_type": "stream",
          "name": "stdout",
          "text": [
            "number that only appears once: 1\n"
          ]
        }
      ]
    },
    {
      "cell_type": "code",
      "source": [
        "#15. Move All Zeros to the End\n",
        "#Given a list of integers, move all zeros to the end while maintaining the relative order of non-zero elements. Don’t use any inbuilt functions\n",
        "#a. numbers = [0, 1, 0, 3, 12]\n",
        "numbers = [0, 1, 0, 3, 12]\n",
        "list1=[]\n",
        "list2=[]\n",
        "for i in numbers:\n",
        "  if(i==0):\n",
        "    list1.append(i)\n",
        "  else:\n",
        "    list2.append(i)\n",
        "print(\"final list:\",list2+list1)"
      ],
      "metadata": {
        "colab": {
          "base_uri": "https://localhost:8080/"
        },
        "id": "l2CDSbZcK-2S",
        "outputId": "57c27945-f17d-4dff-8a55-2f5c46d502ad"
      },
      "execution_count": null,
      "outputs": [
        {
          "output_type": "stream",
          "name": "stdout",
          "text": [
            "final list: [1, 3, 12, 0, 0]\n"
          ]
        }
      ]
    },
    {
      "cell_type": "code",
      "source": [
        "#16. Find Elements Greater Than Their Left Neighbor\n",
        "#numbers = [1, 3, 2, 6, 5, 8, 7]\n",
        "numbers = [1, 3, 2, 6, 5, 8, 7]\n",
        "for i in range(1,len(numbers)):\n",
        "  if(numbers[i]>numbers[i-1]):\n",
        "   print(f\"{numbers[i]} is greater than {numbers[i-1]}\")"
      ],
      "metadata": {
        "colab": {
          "base_uri": "https://localhost:8080/"
        },
        "id": "wLyl__c-LjuK",
        "outputId": "93dcdb78-66ed-4ddc-f41a-d741cee4b268"
      },
      "execution_count": null,
      "outputs": [
        {
          "output_type": "stream",
          "name": "stdout",
          "text": [
            "3 is greater than 1\n",
            "6 is greater than 2\n",
            "8 is greater than 5\n"
          ]
        }
      ]
    },
    {
      "cell_type": "code",
      "source": [
        "#17. Find Triplets That Sum to Zero\n",
        "#Given a list of numbers, find all unique triplets (a, b, c) such that a + b + c = 0.\n",
        "mylist=[1,2,3,3,4,5]\n",
        "for index in range(0,6):\n",
        "  curr=mylist[index]\n",
        "\n",
        "  for index2 in range(index+1,6):\n",
        "    next=mylist[index2]\n",
        "\n",
        "    for index3 in range(index2+1,6):\n",
        "      next1=mylist[index3]\n",
        "      if(curr + next + next1 ==6):\n",
        "         print(\"three element is:\",curr,next,next1)\n",
        "         break"
      ],
      "metadata": {
        "colab": {
          "base_uri": "https://localhost:8080/"
        },
        "id": "W16VWwIJNKqy",
        "outputId": "821c8dba-4765-4d6b-bb5e-1dbfdd85cdad"
      },
      "execution_count": null,
      "outputs": [
        {
          "output_type": "stream",
          "name": "stdout",
          "text": [
            "three element is: 1 2 3\n"
          ]
        }
      ]
    }
  ]
}